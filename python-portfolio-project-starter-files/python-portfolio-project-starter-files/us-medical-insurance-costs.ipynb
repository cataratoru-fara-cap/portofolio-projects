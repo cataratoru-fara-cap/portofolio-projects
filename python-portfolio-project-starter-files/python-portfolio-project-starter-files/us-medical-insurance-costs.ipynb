{
 "cells": [
  {
   "cell_type": "markdown",
   "metadata": {},
   "source": [
    "# U.S. Medical Insurance Costs"
   ]
  },
  {
   "cell_type": "code",
   "execution_count": 6,
   "metadata": {},
   "outputs": [
    {
     "data": {
      "text/html": [
       "<div>\n",
       "<style scoped>\n",
       "    .dataframe tbody tr th:only-of-type {\n",
       "        vertical-align: middle;\n",
       "    }\n",
       "\n",
       "    .dataframe tbody tr th {\n",
       "        vertical-align: top;\n",
       "    }\n",
       "\n",
       "    .dataframe thead th {\n",
       "        text-align: right;\n",
       "    }\n",
       "</style>\n",
       "<table border=\"1\" class=\"dataframe\">\n",
       "  <thead>\n",
       "    <tr style=\"text-align: right;\">\n",
       "      <th></th>\n",
       "      <th>age</th>\n",
       "      <th>sex</th>\n",
       "      <th>bmi</th>\n",
       "      <th>children</th>\n",
       "      <th>smoker</th>\n",
       "      <th>region</th>\n",
       "      <th>charges</th>\n",
       "    </tr>\n",
       "  </thead>\n",
       "  <tbody>\n",
       "    <tr>\n",
       "      <th>0</th>\n",
       "      <td>19</td>\n",
       "      <td>female</td>\n",
       "      <td>27.900</td>\n",
       "      <td>0</td>\n",
       "      <td>yes</td>\n",
       "      <td>southwest</td>\n",
       "      <td>16884.92400</td>\n",
       "    </tr>\n",
       "    <tr>\n",
       "      <th>1</th>\n",
       "      <td>18</td>\n",
       "      <td>male</td>\n",
       "      <td>33.770</td>\n",
       "      <td>1</td>\n",
       "      <td>no</td>\n",
       "      <td>southeast</td>\n",
       "      <td>1725.55230</td>\n",
       "    </tr>\n",
       "    <tr>\n",
       "      <th>2</th>\n",
       "      <td>28</td>\n",
       "      <td>male</td>\n",
       "      <td>33.000</td>\n",
       "      <td>3</td>\n",
       "      <td>no</td>\n",
       "      <td>southeast</td>\n",
       "      <td>4449.46200</td>\n",
       "    </tr>\n",
       "    <tr>\n",
       "      <th>3</th>\n",
       "      <td>33</td>\n",
       "      <td>male</td>\n",
       "      <td>22.705</td>\n",
       "      <td>0</td>\n",
       "      <td>no</td>\n",
       "      <td>northwest</td>\n",
       "      <td>21984.47061</td>\n",
       "    </tr>\n",
       "    <tr>\n",
       "      <th>4</th>\n",
       "      <td>32</td>\n",
       "      <td>male</td>\n",
       "      <td>28.880</td>\n",
       "      <td>0</td>\n",
       "      <td>no</td>\n",
       "      <td>northwest</td>\n",
       "      <td>3866.85520</td>\n",
       "    </tr>\n",
       "  </tbody>\n",
       "</table>\n",
       "</div>"
      ],
      "text/plain": [
       "   age     sex     bmi  children smoker     region      charges\n",
       "0   19  female  27.900         0    yes  southwest  16884.92400\n",
       "1   18    male  33.770         1     no  southeast   1725.55230\n",
       "2   28    male  33.000         3     no  southeast   4449.46200\n",
       "3   33    male  22.705         0     no  northwest  21984.47061\n",
       "4   32    male  28.880         0     no  northwest   3866.85520"
      ]
     },
     "execution_count": 6,
     "metadata": {},
     "output_type": "execute_result"
    }
   ],
   "source": [
    "import pandas as pd\n",
    "insurance = pd.read_csv(\"insurance.csv\")\n",
    "\n",
    "insurance.head()"
   ]
  },
  {
   "cell_type": "code",
   "execution_count": 25,
   "metadata": {},
   "outputs": [],
   "source": [
    "from attr import dataclass, field\n",
    "\n",
    "\n",
    "@dataclass\n",
    "class Analayser:\n",
    "    ages: field(  default= list)\n",
    "    sex: field( default= list)\n",
    "    bmi: field( default=list)\n",
    "    children: field(default= list)\n",
    "    smoker: field(default= list)\n",
    "    region: field(default= list)\n",
    "    charges:  field(default= list)\n",
    "\n",
    "    def get_mean_age(self) -> str:\n",
    "        mean = 0\n",
    "        for age in self.ages: \n",
    "            mean += age\n",
    "\n",
    "        result = mean / len(self.ages)\n",
    "        #Rounds the result to the second decimal point    \n",
    "        return f\"The mean age in the datagroup {round(result, 2)} years\" \n",
    "\n",
    "    def get_locations(self) -> dict:\n",
    "        my_region = {}\n",
    "        for location in self.region:\n",
    "            if location not in my_region.keys():\n",
    "                my_region[f\"{location}\"] = 0\n",
    "            elif location in my_region.keys():\n",
    "                my_region[f\"{location}\"] += 1\n",
    "\n",
    "        return my_region\n",
    "\n",
    "    def locator(self):\n",
    "        for location in self.get_locations:\n",
    "            pass\n",
    "\n",
    "    def smokercost(self):\n",
    "        pass\n",
    "    def non_smokercost(self):\n",
    "        pass\n",
    "    def compare_cost(self):\n",
    "        pass\n",
    "    def people_with_one_child_average_age(self):\n",
    "        pass"
   ]
  },
  {
   "cell_type": "code",
   "execution_count": 26,
   "metadata": {},
   "outputs": [
    {
     "data": {
      "text/plain": [
       "{'southwest': 324, 'southeast': 363, 'northwest': 324, 'northeast': 323}"
      ]
     },
     "execution_count": 26,
     "metadata": {},
     "output_type": "execute_result"
    }
   ],
   "source": [
    "my_data = Analayser(ages=insurance[\"age\"], sex=insurance[\"sex\"], bmi=insurance[\"bmi\"], children=insurance[\"children\"], smoker=insurance[\"smoker\"], region=insurance[\"region\"], charges=insurance[\"charges\"] )\n",
    "my_data.get_mean_age()\n",
    "my_data.get_locations()"
   ]
  },
  {
   "cell_type": "code",
   "execution_count": 59,
   "metadata": {},
   "outputs": [],
   "source": [
    "def mean_age(ages) -> int : \n",
    "    sum = 0\n",
    "    for age in ages:\n",
    "        sum += age\n",
    "    mean = sum / len(ages)\n",
    "    return mean\n",
    "\n",
    "def locator(locations):\n",
    "    args = SE, SW, NE, NW = 0, 0, 0, 0\n",
    "    for location in locations:\n",
    "        match location:\n",
    "            case \"southwest\":\n",
    "                SW += 1\n",
    "            case \"southeast\":\n",
    "                SE += 1\n",
    "            case \"northeast\":\n",
    "                NE += 1\n",
    "            case \"northwest\":\n",
    "                NW += 1\n",
    "            case _:\n",
    "                return f\"location {location} is not in std cases\"\n",
    "    \n",
    "    print(f\"We have {SW} people from the southwest\") \n",
    "    print(f\"We have {SE} people from the southeast\")\n",
    "    print(f\"We have {NW} people from the northwest\")\n",
    "    print(f\"We have {NE} people from the northeast\")\n",
    "\n",
    "    args = {\"southeast\": SE, \"southwest\": SW, \"northeast\": NE, \"northwest\": NW}\n",
    "    max  = list(args.values())[0]\n",
    "    max_loc = list(args.keys())[0]\n",
    "    for key, value in args.items():\n",
    "        if value >= max:\n",
    "            max = value\n",
    "            max_loc = key\n",
    "\n",
    "    return f\"Location with most insured is {max_loc} and it insures {max}\""
   ]
  },
  {
   "cell_type": "code",
   "execution_count": 60,
   "metadata": {},
   "outputs": [
    {
     "name": "stdout",
     "output_type": "stream",
     "text": [
      "Mean age is 39.20702541106129\n",
      "We have 325 people from the southwest\n",
      "We have 364 people from the southeast\n",
      "We have 325 people from the northwest\n",
      "We have 324 people from the northeast\n"
     ]
    },
    {
     "data": {
      "text/plain": [
       "'Location with most insured is southeast and it insures 364'"
      ]
     },
     "execution_count": 60,
     "metadata": {},
     "output_type": "execute_result"
    }
   ],
   "source": [
    "mean = mean_age(insurance['age'])\n",
    "print(f\"Mean age is {mean}\")\n",
    "\n",
    "locator(insurance[\"region\"])\n"
   ]
  },
  {
   "cell_type": "code",
   "execution_count": null,
   "metadata": {},
   "outputs": [],
   "source": []
  }
 ],
 "metadata": {
  "kernelspec": {
   "display_name": "Python 3",
   "language": "python",
   "name": "python3"
  },
  "language_info": {
   "codemirror_mode": {
    "name": "ipython",
    "version": 3
   },
   "file_extension": ".py",
   "mimetype": "text/x-python",
   "name": "python",
   "nbconvert_exporter": "python",
   "pygments_lexer": "ipython3",
   "version": "3.11.5"
  }
 },
 "nbformat": 4,
 "nbformat_minor": 4
}
